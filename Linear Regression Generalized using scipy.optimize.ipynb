{
 "cells": [
  {
   "cell_type": "code",
   "execution_count": 294,
   "metadata": {},
   "outputs": [],
   "source": [
    "import numpy as np\n",
    "import pandas as pd\n",
    "import matplotlib.pyplot as plt\n",
    "from scipy.optimize import minimize\n",
    "%matplotlib inline"
   ]
  },
  {
   "cell_type": "code",
   "execution_count": 295,
   "metadata": {},
   "outputs": [],
   "source": [
    "#Computing the cost function\n",
    "\n",
    "def computeCost(theta,X,y):\n",
    "    theta=np.matrix(theta)\n",
    "    m=len(y) #len of an array returns the number of columns of the array\n",
    "    cost=(1/(2*m))*np.sum(np.power(((X.dot(theta.transpose()))-y),2)) \n",
    "    #.dot is to make sure matrix multiplication of array occurs. * is for element-wise\n",
    "    #.sum returns the summation of all elements of the array\n",
    "    return(cost)"
   ]
  },
  {
   "cell_type": "code",
   "execution_count": 296,
   "metadata": {},
   "outputs": [],
   "source": [
    "#Vectorized approach for gradient descent\n",
    "\n",
    "def gradient(theta,X,y): \n",
    "    theta=np.matrix(theta)\n",
    "    m=len(y)\n",
    "    Xt=X.transpose() #.transpose is to transpose the matrix\n",
    "    grad=((1/m)*(Xt.dot((X.dot(theta.transpose()))-y)))\n",
    "    return(grad)"
   ]
  },
  {
   "cell_type": "markdown",
   "metadata": {},
   "source": [
    "Insert the location of your text or csv file in quotes below. Ensure that all the features of your dataset are labelled."
   ]
  },
  {
   "cell_type": "code",
   "execution_count": 297,
   "metadata": {},
   "outputs": [
    {
     "data": {
      "text/html": [
       "<div>\n",
       "<style scoped>\n",
       "    .dataframe tbody tr th:only-of-type {\n",
       "        vertical-align: middle;\n",
       "    }\n",
       "\n",
       "    .dataframe tbody tr th {\n",
       "        vertical-align: top;\n",
       "    }\n",
       "\n",
       "    .dataframe thead th {\n",
       "        text-align: right;\n",
       "    }\n",
       "</style>\n",
       "<table border=\"1\" class=\"dataframe\">\n",
       "  <thead>\n",
       "    <tr style=\"text-align: right;\">\n",
       "      <th></th>\n",
       "      <th>Ones</th>\n",
       "      <th>Square feet</th>\n",
       "      <th>#bedrooms</th>\n",
       "      <th>cost</th>\n",
       "    </tr>\n",
       "  </thead>\n",
       "  <tbody>\n",
       "    <tr>\n",
       "      <th>0</th>\n",
       "      <td>1</td>\n",
       "      <td>0.130010</td>\n",
       "      <td>-0.223675</td>\n",
       "      <td>0.475747</td>\n",
       "    </tr>\n",
       "    <tr>\n",
       "      <th>1</th>\n",
       "      <td>1</td>\n",
       "      <td>-0.504190</td>\n",
       "      <td>-0.223675</td>\n",
       "      <td>-0.084074</td>\n",
       "    </tr>\n",
       "    <tr>\n",
       "      <th>2</th>\n",
       "      <td>1</td>\n",
       "      <td>0.502476</td>\n",
       "      <td>-0.223675</td>\n",
       "      <td>0.228626</td>\n",
       "    </tr>\n",
       "    <tr>\n",
       "      <th>3</th>\n",
       "      <td>1</td>\n",
       "      <td>-0.735723</td>\n",
       "      <td>-1.537767</td>\n",
       "      <td>-0.867025</td>\n",
       "    </tr>\n",
       "    <tr>\n",
       "      <th>4</th>\n",
       "      <td>1</td>\n",
       "      <td>1.257476</td>\n",
       "      <td>1.090417</td>\n",
       "      <td>1.595389</td>\n",
       "    </tr>\n",
       "  </tbody>\n",
       "</table>\n",
       "</div>"
      ],
      "text/plain": [
       "   Ones  Square feet  #bedrooms      cost\n",
       "0     1     0.130010  -0.223675  0.475747\n",
       "1     1    -0.504190  -0.223675 -0.084074\n",
       "2     1     0.502476  -0.223675  0.228626\n",
       "3     1    -0.735723  -1.537767 -0.867025\n",
       "4     1     1.257476   1.090417  1.595389"
      ]
     },
     "execution_count": 297,
     "metadata": {},
     "output_type": "execute_result"
    }
   ],
   "source": [
    "#Reading the data\n",
    "\n",
    "raw_data=pd.read_csv('HousePricing.txt')#Insert location of file here\n",
    "\n",
    "#Mean Normalization and inserting ones\n",
    "\n",
    "data=(raw_data-raw_data.mean())/(raw_data.std()) \n",
    "#.mean,.std find the mean and standard deviation for every column in your Dataframe so you are simultaneously processing it\n",
    "data.insert(0,'Ones',1) #DataFrameName.insert(location, column name, value, allow_duplicates = False)\n",
    "data.head() #always print it at the end, else it won't come"
   ]
  },
  {
   "cell_type": "code",
   "execution_count": 298,
   "metadata": {},
   "outputs": [],
   "source": [
    "#Separating X and Y data\n",
    "\n",
    "cols=data.shape[1] #.shape is a tuple hence you call with []. 0 for row size and 1 for column size\n",
    "X=data.iloc[:,0:cols-1] #iloc can be used to access the data in various ways\n",
    "y=data.iloc[:,cols-1:cols]\n",
    "X=np.array(X)\n",
    "y=np.array(y) "
   ]
  },
  {
   "cell_type": "markdown",
   "metadata": {},
   "source": [
    "Various methods can be chosen for minimization based on your problems, number of features etc. The method used here is the TNC or Truncated Newton Algorithm"
   ]
  },
  {
   "cell_type": "code",
   "execution_count": 299,
   "metadata": {},
   "outputs": [
    {
     "name": "stdout",
     "output_type": "stream",
     "text": [
      "The values of the parameters at the end of optimization are [ -3.26293460e-16   8.84765991e-01  -5.31788171e-02] \n",
      "\n",
      "The initial value of the cost function = 0.489361702128\n",
      "The final value of the cost function = 0.130686480539\n"
     ]
    }
   ],
   "source": [
    "#Learning\n",
    "theta=np.zeros(X.shape[1]) #Initialization your parameter\n",
    "costfirst=computeCost(theta,X,y)\n",
    "fmin=minimize(fun=computeCost,x0=theta,args=(X,y),method='TNC',jac=gradient)\n",
    "theta=fmin.x\n",
    "costend=fmin.fun\n",
    "print('The values of the parameters at the end of optimization are',theta,'\\n')\n",
    "print('The initial value of the cost function =',costfirst)\n",
    "print('The final value of the cost function =',costend)"
   ]
  },
  {
   "cell_type": "code",
   "execution_count": 300,
   "metadata": {},
   "outputs": [
    {
     "name": "stdout",
     "output_type": "stream",
     "text": [
      "error % = 7.4572963139790795\n",
      "accuracy % = 92.54270368602091\n"
     ]
    }
   ],
   "source": [
    "#Checking error and accuracy\n",
    "\n",
    "er0=((np.sqrt(costend*2*len(y)))/len(y))*100 #Error formula\n",
    "print('error % = {}'.format(er0))\n",
    "print('accuracy % = {}'.format(100-er0))"
   ]
  },
  {
   "cell_type": "markdown",
   "metadata": {},
   "source": [
    "Insert your new input values in the inputs array [1,_,_...]<br>\n",
    "For example if your data has two input features/variables, then inputs=[1,234,22] (input depending on your data)<br>\n",
    "If your data has five input features/variables, then inputs=[1,2323,65,74,5474,35] (again, input depending on your data)"
   ]
  },
  {
   "cell_type": "code",
   "execution_count": 301,
   "metadata": {},
   "outputs": [
    {
     "name": "stdout",
     "output_type": "stream",
     "text": [
      "Predicted output =  293081.4641010747\n"
     ]
    }
   ],
   "source": [
    "#Predicting new outputs\n",
    "\n",
    "#Enter your input values here (Leave the first '1')\n",
    "inputs=[1,1650,3]\n",
    "\n",
    "mean=raw_data.mean()\n",
    "stdi=raw_data.std()\n",
    "\n",
    "for i in range (len(inputs)-1):\n",
    "    inputs[i+1]=(inputs[i+1]-mean[i])/(stdi[i]) #Converting input to mean normalized input\n",
    "\n",
    "new_out=(np.array([inputs])).dot(theta) \n",
    "corrected_out=(new_out*stdi[-1])+mean[-1] #Converting mean normalized output to actual output\n",
    "\n",
    "print('Predicted output = ',float(corrected_out))"
   ]
  },
  {
   "cell_type": "code",
   "execution_count": null,
   "metadata": {},
   "outputs": [],
   "source": []
  }
 ],
 "metadata": {
  "kernelspec": {
   "display_name": "Python 3",
   "language": "python",
   "name": "python3"
  },
  "language_info": {
   "codemirror_mode": {
    "name": "ipython",
    "version": 3
   },
   "file_extension": ".py",
   "mimetype": "text/x-python",
   "name": "python",
   "nbconvert_exporter": "python",
   "pygments_lexer": "ipython3",
   "version": "3.6.3"
  }
 },
 "nbformat": 4,
 "nbformat_minor": 2
}
