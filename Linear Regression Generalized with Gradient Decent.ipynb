{
 "cells": [
  {
   "cell_type": "code",
   "execution_count": 14,
   "metadata": {},
   "outputs": [],
   "source": [
    "import numpy as np\n",
    "import pandas as pd\n",
    "import matplotlib.pyplot as plt\n",
    "%matplotlib inline"
   ]
  },
  {
   "cell_type": "code",
   "execution_count": 15,
   "metadata": {},
   "outputs": [],
   "source": [
    "#Computing the cost funcion\n",
    "\n",
    "def computeCost(theta,X,y):\n",
    "    m=len(y) #len of an array returns the number of columns of the array\n",
    "    cost=(1/(2*m))*np.sum(np.power(((X.dot(theta))-y),2)) \n",
    "    #.dot is to make sure matrix multiplication of array occurs. * is for element-wise\n",
    "    #.sum returns the summation of all elements of the array\n",
    "    return(cost)"
   ]
  },
  {
   "cell_type": "code",
   "execution_count": 16,
   "metadata": {},
   "outputs": [],
   "source": [
    "#Vectorized approach for gradient descent\n",
    "\n",
    "def gradientDescent(theta,X,y,alpha): \n",
    "    m=len(y)\n",
    "    Xt=X.transpose() #.transpose is to transpose the matrix\n",
    "    theta_new=theta-((alpha/m)*(Xt.dot((X.dot(theta))-y)))\n",
    "    return(theta_new)"
   ]
  },
  {
   "cell_type": "markdown",
   "metadata": {},
   "source": [
    "Insert the location of your text or csv file in quotes below"
   ]
  },
  {
   "cell_type": "code",
   "execution_count": 17,
   "metadata": {},
   "outputs": [
    {
     "data": {
      "text/html": [
       "<div>\n",
       "<style scoped>\n",
       "    .dataframe tbody tr th:only-of-type {\n",
       "        vertical-align: middle;\n",
       "    }\n",
       "\n",
       "    .dataframe tbody tr th {\n",
       "        vertical-align: top;\n",
       "    }\n",
       "\n",
       "    .dataframe thead th {\n",
       "        text-align: right;\n",
       "    }\n",
       "</style>\n",
       "<table border=\"1\" class=\"dataframe\">\n",
       "  <thead>\n",
       "    <tr style=\"text-align: right;\">\n",
       "      <th></th>\n",
       "      <th>Ones</th>\n",
       "      <th>Square feet</th>\n",
       "      <th>#bedrooms</th>\n",
       "      <th>cost</th>\n",
       "    </tr>\n",
       "  </thead>\n",
       "  <tbody>\n",
       "    <tr>\n",
       "      <th>0</th>\n",
       "      <td>1</td>\n",
       "      <td>0.130010</td>\n",
       "      <td>-0.223675</td>\n",
       "      <td>0.475747</td>\n",
       "    </tr>\n",
       "    <tr>\n",
       "      <th>1</th>\n",
       "      <td>1</td>\n",
       "      <td>-0.504190</td>\n",
       "      <td>-0.223675</td>\n",
       "      <td>-0.084074</td>\n",
       "    </tr>\n",
       "    <tr>\n",
       "      <th>2</th>\n",
       "      <td>1</td>\n",
       "      <td>0.502476</td>\n",
       "      <td>-0.223675</td>\n",
       "      <td>0.228626</td>\n",
       "    </tr>\n",
       "    <tr>\n",
       "      <th>3</th>\n",
       "      <td>1</td>\n",
       "      <td>-0.735723</td>\n",
       "      <td>-1.537767</td>\n",
       "      <td>-0.867025</td>\n",
       "    </tr>\n",
       "    <tr>\n",
       "      <th>4</th>\n",
       "      <td>1</td>\n",
       "      <td>1.257476</td>\n",
       "      <td>1.090417</td>\n",
       "      <td>1.595389</td>\n",
       "    </tr>\n",
       "  </tbody>\n",
       "</table>\n",
       "</div>"
      ],
      "text/plain": [
       "   Ones  Square feet  #bedrooms      cost\n",
       "0     1     0.130010  -0.223675  0.475747\n",
       "1     1    -0.504190  -0.223675 -0.084074\n",
       "2     1     0.502476  -0.223675  0.228626\n",
       "3     1    -0.735723  -1.537767 -0.867025\n",
       "4     1     1.257476   1.090417  1.595389"
      ]
     },
     "execution_count": 17,
     "metadata": {},
     "output_type": "execute_result"
    }
   ],
   "source": [
    "#Reading the data\n",
    "\n",
    "raw_data=pd.read_csv('HousePricing.txt')#Insert location of file here\n",
    "\n",
    "#Mean Normalization and inserting ones\n",
    "\n",
    "data=(raw_data-raw_data.mean())/(raw_data.std()) \n",
    "#.mean,.std find the mean and standard deviation for every column in your Dataframe so you are simultaneously processing it\n",
    "data.insert(0,'Ones',1) #DataFrameName.insert(location, column name, value, allow_duplicates = False)\n",
    "data.head() #always print it at the end, else it won't come"
   ]
  },
  {
   "cell_type": "code",
   "execution_count": 18,
   "metadata": {},
   "outputs": [],
   "source": [
    "#Separating X and Y data\n",
    "\n",
    "cols=data.shape[1] #.shape is a tuple hence you call with []. 0 for row size and 1 for column size\n",
    "X=data.iloc[:,0:cols-1] #iloc can be used to access the data in various ways\n",
    "y=data.iloc[:,cols-1:cols]\n",
    "X=np.array(X)\n",
    "y=np.array(y) "
   ]
  },
  {
   "cell_type": "markdown",
   "metadata": {},
   "source": [
    "Choose number of iterations and the learning rate"
   ]
  },
  {
   "cell_type": "code",
   "execution_count": 19,
   "metadata": {},
   "outputs": [
    {
     "name": "stdout",
     "output_type": "stream",
     "text": [
      "[[ -1.23600893e-16]\n",
      " [  8.00441430e-01]\n",
      " [  2.93790099e-02]]\n"
     ]
    }
   ],
   "source": [
    "#Initializations\n",
    "\n",
    "iters=400 #number of iterations\n",
    "alpha=0.01 #Learning rate\n",
    "\n",
    "costs=np.zeros(iters+1)\n",
    "theta=np.zeros([X.shape[1],1])#a numpy array can be used as a matrix only when it is like an array in an array [[0]], and not just [0]\n",
    "\n",
    "#Learning\n",
    "\n",
    "costs[0]=computeCost(theta,X,y)\n",
    "for i in range(iters):\n",
    "    theta=gradientDescent(theta,X,y,alpha)\n",
    "    costs[i+1]=computeCost(theta,X,y)\n",
    "print(theta)"
   ]
  },
  {
   "cell_type": "code",
   "execution_count": 20,
   "metadata": {},
   "outputs": [
    {
     "data": {
      "text/plain": [
       "Text(0.5,1,'Cost function vs iterations')"
      ]
     },
     "execution_count": 20,
     "metadata": {},
     "output_type": "execute_result"
    },
    {
     "data": {
      "image/png": "[encoded data removed]",
      "text/plain": [
       "<matplotlib.figure.Figure at 0x1adf29b52b0>"
      ]
     },
     "metadata": {},
     "output_type": "display_data"
    }
   ],
   "source": [
    "#Plotting cost function versus number of iterations\n",
    "\n",
    "fig,ax=plt.subplots(figsize=(8,5))\n",
    "ax.plot(np.arange(iters+1),costs,'r',label='Cost Function') #.arange returns evenly spaced values in a given interval\n",
    "ax.set_xlabel('Iterations')\n",
    "ax.set_ylabel('Cost Function Value')\n",
    "ax.set_title('Cost function vs iterations')"
   ]
  },
  {
   "cell_type": "code",
   "execution_count": 21,
   "metadata": {},
   "outputs": [
    {
     "name": "stdout",
     "output_type": "stream",
     "text": [
      "error % = 7.5423960760032145\n",
      "accuracy % = 92.45760392399679\n"
     ]
    }
   ],
   "source": [
    "#Checking error and accuracy\n",
    "\n",
    "er0=((np.sqrt(costs[-1]*2*len(y)))/len(y))*100 #Error formula\n",
    "print('error % = {}'.format(er0))\n",
    "print('accuracy % = {}'.format(100-er0))"
   ]
  },
  {
   "cell_type": "markdown",
   "metadata": {},
   "source": [
    "Insert your new input values in the inputs array [1,_,_...]<br>\n",
    "For example if your data has two input features/variables, then inputs=[1,234,22] (input depending on your data)<br>\n",
    "If your data has five input features/variables, then inputs=[1,2323,65,74,5474,35] (again, input depending on your data)"
   ]
  },
  {
   "cell_type": "code",
   "execution_count": 22,
   "metadata": {},
   "outputs": [
    {
     "name": "stdout",
     "output_type": "stream",
     "text": [
      "Predicted output =  295425.21591896744\n"
     ]
    }
   ],
   "source": [
    "#Predicting new outputs\n",
    "\n",
    "#Enter your input values here (Leave the first '1')\n",
    "inputs=[1,1650,3]\n",
    "\n",
    "mean=raw_data.mean()\n",
    "stdi=raw_data.std()\n",
    "\n",
    "for i in range (len(inputs)-1):\n",
    "    inputs[i+1]=(inputs[i+1]-mean[i])/(stdi[i]) #Converting input to mean normalized input\n",
    "\n",
    "new_out=(np.array([inputs])).dot(theta) \n",
    "corrected_out=(new_out*stdi[-1])+mean[-1] #Converting mean normalized output to actual output\n",
    "\n",
    "print('Predicted output = ',float(corrected_out))"
   ]
  }
 ],
 "metadata": {
  "kernelspec": {
   "display_name": "Python 3",
   "language": "python",
   "name": "python3"
  },
  "language_info": {
   "codemirror_mode": {
    "name": "ipython",
    "version": 3
   },
   "file_extension": ".py",
   "mimetype": "text/x-python",
   "name": "python",
   "nbconvert_exporter": "python",
   "pygments_lexer": "ipython3",
   "version": "3.6.3"
  }
 },
 "nbformat": 4,
 "nbformat_minor": 2
}
